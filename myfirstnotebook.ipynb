{
 "cells": [
  {
   "cell_type": "markdown",
   "id": "50a3e596-41f7-43e0-9496-44d75687e146",
   "metadata": {},
   "source": [
    "Here is a test"
   ]
  },
  {
   "cell_type": "code",
   "execution_count": 1,
   "id": "89097375-f434-48ff-9b91-e6658c0ee0bf",
   "metadata": {},
   "outputs": [],
   "source": [
    "from numbers import Number"
   ]
  },
  {
   "cell_type": "code",
   "execution_count": 4,
   "id": "183f353c-ac3b-4334-963a-84894f39dfa0",
   "metadata": {},
   "outputs": [],
   "source": [
    "def add(a: 2, b: 3) -> Number:\n",
    "    return a + b"
   ]
  },
  {
   "cell_type": "code",
   "execution_count": null,
   "id": "832f1965-a2f2-445a-afde-137a38847430",
   "metadata": {},
   "outputs": [],
   "source": []
  }
 ],
 "metadata": {
  "kernelspec": {
   "display_name": "Python 3 (ipykernel)",
   "language": "python",
   "name": "python3"
  },
  "language_info": {
   "codemirror_mode": {
    "name": "ipython",
    "version": 3
   },
   "file_extension": ".py",
   "mimetype": "text/x-python",
   "name": "python",
   "nbconvert_exporter": "python",
   "pygments_lexer": "ipython3",
   "version": "3.11.10"
  }
 },
 "nbformat": 4,
 "nbformat_minor": 5
}
